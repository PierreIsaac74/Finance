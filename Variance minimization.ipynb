{
  "nbformat": 4,
  "nbformat_minor": 0,
  "metadata": {
    "colab": {
      "provenance": []
    },
    "kernelspec": {
      "name": "python3",
      "display_name": "Python 3"
    },
    "language_info": {
      "name": "python"
    }
  },
  "cells": [
    {
      "cell_type": "markdown",
      "source": [
        "PORTFEUILLE MIN VARIANCE :"
      ],
      "metadata": {
        "id": "UVhHT8FX6VIG"
      }
    },
    {
      "cell_type": "code",
      "source": [
        "import yfinance as yf\n",
        "import pandas as pd\n",
        "import numpy as np\n",
        "from scipy.optimize import minimize\n",
        "\n",
        "# Parameters:\n",
        "period = '3y'\n",
        "# List of stocks\n",
        "tickers = [\"AAPL\", \"MSFT\", \"GOOGL\"]\n",
        "\n",
        "# Download adjusted historical data for the past 5 years\n",
        "def download_stock_data(ticker_list):\n",
        "    data = {}\n",
        "    for ticker in ticker_list:\n",
        "        stock = yf.Ticker(ticker)\n",
        "        data[ticker] = stock.history(period=\"5y\")['Close']\n",
        "    return pd.DataFrame(data)\n",
        "\n",
        "# Calculate daily returns\n",
        "def calculate_daily_returns(dataframe):\n",
        "    return dataframe.pct_change()\n",
        "\n",
        "# Objective function to minimize portfolio variance\n",
        "def portfolio_variance(weights, covariance_matrix):\n",
        "    return np.dot(weights.T, np.dot(covariance_matrix, weights))\n",
        "\n",
        "# Constraint function that the sum of weights must equal 1\n",
        "def check_sum(weights):\n",
        "    return np.sum(weights) - 1\n",
        "\n",
        "# Download data for the stocks\n",
        "stock_data = download_stock_data(tickers)\n",
        "\n",
        "# Calculate daily returns\n",
        "daily_returns = calculate_daily_returns(stock_data)\n",
        "\n",
        "# Calculate annualized covariance matrix\n",
        "covariance_matrix = daily_returns.cov() * 252\n",
        "\n",
        "# Number of stocks in the portfolio\n",
        "n = len(tickers)\n",
        "\n",
        "# Constraints and bounds for optimization\n",
        "constraints = ({'type': 'eq', 'fun': check_sum})\n",
        "bounds = tuple((0, 1) for asset in range(n))\n",
        "\n",
        "# Equal initial weights for the starting point of optimization\n",
        "initial_weights = np.array([1/n] * n)\n",
        "\n",
        "# Optimization to minimize portfolio variance\n",
        "optimal_weights_result = minimize(portfolio_variance, initial_weights, args=(covariance_matrix,), method='SLSQP', bounds=bounds, constraints=constraints)\n",
        "\n",
        "# Optimal weights\n",
        "optimal_weights = optimal_weights_result.x\n",
        "\n",
        "# Calculate the variance of the optimized portfolio\n",
        "optimized_portfolio_variance = portfolio_variance(optimal_weights, covariance_matrix)\n",
        "\n",
        "# Calculate the expected return of the optimized portfolio\n",
        "annual_returns = daily_returns.mean() * 252\n",
        "optimized_portfolio_return = np.dot(optimal_weights, annual_returns)\n",
        "\n",
        "# Convert weights and returns to percentages\n",
        "optimal_weights_percent = optimal_weights * 100\n",
        "optimized_portfolio_variance_percent = optimized_portfolio_variance * 100\n",
        "optimized_portfolio_return_percent = optimized_portfolio_return * 100\n",
        "\n",
        "# Create a DataFrame for optimized weights with names for readability\n",
        "optimal_weights_df = pd.DataFrame(data={'Ticker': tickers, 'Weight (%)': optimal_weights_percent})\n",
        "\n",
        "# Display the results\n",
        "print(\"Optimal Weights per Stock:\")\n",
        "print(optimal_weights_df)\n",
        "print(\"\\nOptimized Portfolio Variance (%):\", optimized_portfolio_variance_percent)\n",
        "print(\"Expected Return of the Optimized Portfolio (%):\", optimized_portfolio_return_percent)\n",
        "print(\"Sharpe Ratio\", optimized_portfolio_return/np.sqrt(optimized_portfolio_variance))\n"
      ],
      "metadata": {
        "colab": {
          "base_uri": "https://localhost:8080/"
        },
        "id": "t2BM-bHDp1qf",
        "outputId": "fd9ec51c-96e5-4bff-ec53-23dff6960cc8"
      },
      "execution_count": 72,
      "outputs": [
        {
          "output_type": "stream",
          "name": "stdout",
          "text": [
            "Optimal Weights per Stock:\n",
            "  Ticker  Weight (%)\n",
            "0   AAPL   29.836580\n",
            "1   MSFT   37.478117\n",
            "2  GOOGL   32.685303\n",
            "\n",
            "Optimized Portfolio Variance (%): 8.030917402685416\n",
            "Expected Return of the Optimized Portfolio (%): 31.67826077366969\n",
            "Sharpe Ratio 1.1178376935213716\n"
          ]
        }
      ]
    }
  ]
}